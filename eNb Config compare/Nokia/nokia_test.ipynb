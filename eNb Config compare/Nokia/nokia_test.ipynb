{
 "cells": [
  {
   "cell_type": "code",
   "execution_count": 119,
   "metadata": {},
   "outputs": [],
   "source": [
    "from bs4 import BeautifulSoup\n",
    "with open('old1.xml', 'r') as f: \n",
    "    data = f.read()\n",
    "Bs_data = BeautifulSoup(data, \"xml\")\n",
    "\n",
    "from xml.dom import minidom\n",
    "mydoc = minidom.parse('old1.xml')\n",
    "managedObject = mydoc.getElementsByTagName('managedObject')\n",
    "version_site = managedObject[0].attributes['version'].value\n",
    "Nokia_site_name = managedObject[0].attributes['distName'].value\n",
    "\n",
    "site_name_data = Bs_data.find('managedObject', {'distName':Nokia_site_name})\n",
    "\n",
    "import re\n",
    "r1=re.findall(r'<p name=\"(.*?)</p>',str(site_name_data.find_all('p')))\n",
    "\n",
    "import pandas as pd\n",
    "df = pd.DataFrame(r1,columns=['data'])\n",
    "\n",
    "df[['para','val']] = df.data.str.split('\">',expand=True)\n",
    "\n",
    "df['Parameter']=df['para'].str.replace(\"'\", '').str.replace(\"]\", '')\n",
    "df['Value']=df['val'].str.replace(\"'\", '').str.replace(\"]\", '')\n",
    "\n",
    "Site_name = df['Value'][4]\n",
    "\n",
    "data = {\n",
    "        'distName':[Nokia_site_name],\n",
    "        'Parameter':['Version'],\n",
    "        'Value':[version_site]}\n",
    "\n",
    "Main_DF=pd.DataFrame(data)\n"
   ]
  },
  {
   "cell_type": "code",
   "execution_count": 120,
   "metadata": {},
   "outputs": [],
   "source": [
    "for Object in range(0,managedObject.length):\n",
    "    name = managedObject[Object].attributes['distName'].value\n",
    "    site_data = Bs_data.find('managedObject', {'distName':name})\n",
    "    r1=re.findall(r'<p name=\"(.*?)</p>',str(site_data.find_all('p')))\n",
    "    dft = pd.DataFrame(r1,columns=['data'])\n",
    "    dft[['para','val']] = dft.data.str.split('\">',expand=True)\n",
    "    dft['distName'] = name\n",
    "    dft['Parameter']=dft['para'].str.replace(\"'\", '').str.replace(\"]\", '')\n",
    "    dft['Value']=dft['val'].str.replace(\"'\", '').str.replace(\"]\", '')\n",
    "    final_temp_DF = dft.drop(['para', 'val','data'], axis=1)\n",
    "    Main_DF=Main_DF.append(final_temp_DF,ignore_index=True)"
   ]
  },
  {
   "cell_type": "code",
   "execution_count": 130,
   "metadata": {},
   "outputs": [],
   "source": [
    "Main_DF['distName']=Main_DF['distName'].str.replace(Nokia_site_name,Site_name)\n",
    "Main_DF.to_csv(r'{}.csv'.format(Site_name), index = False)"
   ]
  },
  {
   "cell_type": "code",
   "execution_count": 128,
   "metadata": {},
   "outputs": [],
   "source": []
  }
 ],
 "metadata": {
  "kernelspec": {
   "display_name": "Python 3",
   "language": "python",
   "name": "python3"
  },
  "language_info": {
   "codemirror_mode": {
    "name": "ipython",
    "version": 3
   },
   "file_extension": ".py",
   "mimetype": "text/x-python",
   "name": "python",
   "nbconvert_exporter": "python",
   "pygments_lexer": "ipython3",
   "version": "3.7.4"
  }
 },
 "nbformat": 4,
 "nbformat_minor": 2
}
