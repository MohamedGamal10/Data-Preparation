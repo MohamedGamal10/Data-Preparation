{
 "cells": [
  {
   "cell_type": "code",
   "execution_count": 77,
   "metadata": {},
   "outputs": [],
   "source": [
    "import pandas as pd"
   ]
  },
  {
   "cell_type": "code",
   "execution_count": 78,
   "metadata": {},
   "outputs": [],
   "source": [
    "df1=pd.read_csv('1.csv')\n",
    "df2=pd.read_csv('2.csv')"
   ]
  },
  {
   "cell_type": "code",
   "execution_count": 79,
   "metadata": {},
   "outputs": [
    {
     "data": {
      "text/html": [
       "<div>\n",
       "<style scoped>\n",
       "    .dataframe tbody tr th:only-of-type {\n",
       "        vertical-align: middle;\n",
       "    }\n",
       "\n",
       "    .dataframe tbody tr th {\n",
       "        vertical-align: top;\n",
       "    }\n",
       "\n",
       "    .dataframe thead th {\n",
       "        text-align: right;\n",
       "    }\n",
       "</style>\n",
       "<table border=\"1\" class=\"dataframe\">\n",
       "  <thead>\n",
       "    <tr style=\"text-align: right;\">\n",
       "      <th></th>\n",
       "      <th>distName1</th>\n",
       "      <th>Parameter1</th>\n",
       "      <th>old_Value</th>\n",
       "      <th>new_Value</th>\n",
       "    </tr>\n",
       "  </thead>\n",
       "  <tbody>\n",
       "    <tr>\n",
       "      <td>3</td>\n",
       "      <td>LALXN33162</td>\n",
       "      <td>$maintenanceRegionId</td>\n",
       "      <td>LTE</td>\n",
       "      <td>3G</td>\n",
       "    </tr>\n",
       "    <tr>\n",
       "      <td>10</td>\n",
       "      <td>LALXN33162</td>\n",
       "      <td>actTransportConfigFallback</td>\n",
       "      <td>0</td>\n",
       "      <td>5</td>\n",
       "    </tr>\n",
       "    <tr>\n",
       "      <td>25</td>\n",
       "      <td>LALXN33162/ANTL-1</td>\n",
       "      <td>antennaTotalLoss</td>\n",
       "      <td>-30</td>\n",
       "      <td>20</td>\n",
       "    </tr>\n",
       "    <tr>\n",
       "      <td>26</td>\n",
       "      <td>LALXN33162/ANTL-1</td>\n",
       "      <td>communication3gppEnabled</td>\n",
       "      <td>1</td>\n",
       "      <td>-1</td>\n",
       "    </tr>\n",
       "  </tbody>\n",
       "</table>\n",
       "</div>"
      ],
      "text/plain": [
       "            distName1                  Parameter1 old_Value new_Value\n",
       "3          LALXN33162        $maintenanceRegionId       LTE        3G\n",
       "10         LALXN33162  actTransportConfigFallback         0         5\n",
       "25  LALXN33162/ANTL-1            antennaTotalLoss       -30        20\n",
       "26  LALXN33162/ANTL-1    communication3gppEnabled         1        -1"
      ]
     },
     "execution_count": 79,
     "metadata": {},
     "output_type": "execute_result"
    }
   ],
   "source": [
    "df3=pd.concat([df1, df2], axis=1, sort=False)\n",
    "df3.columns=['distName1','Parameter1','old_Value','distName2','Parameter2','new_Value']\n",
    "df3['diff']=df3['old_Value']==df3['new_Value']\n",
    "df4=df3[df3['diff']==False].drop(['distName2','Parameter2','diff'], axis=1)\n",
    "df4"
   ]
  },
  {
   "cell_type": "code",
   "execution_count": null,
   "metadata": {},
   "outputs": [],
   "source": []
  }
 ],
 "metadata": {
  "kernelspec": {
   "display_name": "Python 3",
   "language": "python",
   "name": "python3"
  },
  "language_info": {
   "codemirror_mode": {
    "name": "ipython",
    "version": 3
   },
   "file_extension": ".py",
   "mimetype": "text/x-python",
   "name": "python",
   "nbconvert_exporter": "python",
   "pygments_lexer": "ipython3",
   "version": "3.7.4"
  }
 },
 "nbformat": 4,
 "nbformat_minor": 2
}
