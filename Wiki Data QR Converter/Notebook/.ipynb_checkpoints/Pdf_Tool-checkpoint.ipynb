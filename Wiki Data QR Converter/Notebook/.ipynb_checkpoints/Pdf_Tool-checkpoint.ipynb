{
 "cells": [
  {
   "cell_type": "code",
   "execution_count": 2,
   "metadata": {},
   "outputs": [],
   "source": [
    "#Setup lib\n",
    "import pandas as pd\n",
    "import pyqrcode\n",
    "import png\n",
    "from pyqrcode import QRCode\n",
    "import os\n",
    "from weasyprint import HTML, CSS\n",
    "\n",
    "# insert the GTK3 Runtime folder at the beginning\n",
    "GTK_FOLDER = r'C:\\Program Files\\GTK3-Runtime Win64\\bin'\n",
    "os.environ['PATH'] = GTK_FOLDER + os.pathsep + os.environ.get('PATH', '')\n",
    "\n",
    "#setup pdf page\n",
    "css = CSS(string='''\n",
    "    @page {size: A4; margin: 1cm;} \n",
    "    th, td {border: 1px solid black;}\n",
    "    ''')"
   ]
  },
  {
   "cell_type": "code",
   "execution_count": 3,
   "metadata": {},
   "outputs": [],
   "source": [
    "#Read Excel\n",
    "input = pd.read_excel('../Input_File/Input.xlsx')"
   ]
  },
  {
   "cell_type": "code",
   "execution_count": 4,
   "metadata": {},
   "outputs": [],
   "source": [
    "#Generate Html Template\n",
    "def html(page,link,qr_image,book_title,author_name):\n",
    "    f = open('../Output/{}.html'.format(page),'w', encoding=\"utf-8\")\n",
    "\n",
    "    message = \"\"\"\n",
    "    <!DOCTYPE html>\n",
    "    <html lang=\"en\">\n",
    "        <head>\n",
    "        <meta charset=\"utf-8\">\n",
    "        </head>\n",
    "        <body>\n",
    "            <div style=\"text-align: center;\">\n",
    "                <a href=\"{}\"><img src='{}'></a>\n",
    "                <h1>{}</h1>\n",
    "                <h1>{}</h1>\n",
    "            </div>\n",
    "        </body>\n",
    "    </html>\n",
    "    \n",
    "    \"\"\".format(link,qr_image,book_title,author_name)\n",
    "\n",
    "    f.write(message)\n",
    "    f.close()"
   ]
  },
  {
   "cell_type": "code",
   "execution_count": 5,
   "metadata": {},
   "outputs": [],
   "source": [
    "for i in range(input.shape[0]):\n",
    "    # String which represents the QR code\n",
    "    link = input.iloc[i,1]\n",
    "    book_title = input.iloc[i,0]\n",
    "    author_name=input.iloc[i,2]\n",
    "    \n",
    "    # Generate QR code\n",
    "    url = pyqrcode.create(link)\n",
    "\n",
    "    # Create and save the png file\n",
    "    url.png('../Output/{}_{}.png'.format(book_title,author_name), scale = 8)\n",
    "    page='{}_{}'.format(book_title,author_name)\n",
    "    qr_image = '{}_{}.png'.format(book_title,author_name)\n",
    "    \n",
    "    #create HTML File\n",
    "    html(page,link,qr_image,book_title,author_name)\n",
    "    \n",
    "    #Create PDF File\n",
    "    html_file = '{}_{}.html'.format(book_title,author_name)\n",
    "    pdf_file  = '{}_{}.pdf'.format(book_title,author_name)\n",
    "    HTML('../Output/{}'.format(html_file)).write_pdf('../Output/{}'.format(pdf_file), stylesheets=[css])"
   ]
  },
  {
   "cell_type": "code",
   "execution_count": 10,
   "metadata": {},
   "outputs": [],
   "source": [
    "#remove unneeded files\n",
    "os.chdir('../Output/')\n",
    "files = os.listdir()\n",
    "for item in files:\n",
    "    if item.endswith(\".png\"):\n",
    "        os.remove(item)\n",
    "for item in files:\n",
    "    if item.endswith(\".html\"):\n",
    "        os.remove(item)"
   ]
  }
 ],
 "metadata": {
  "kernelspec": {
   "display_name": "Python 3",
   "language": "python",
   "name": "python3"
  },
  "language_info": {
   "codemirror_mode": {
    "name": "ipython",
    "version": 3
   },
   "file_extension": ".py",
   "mimetype": "text/x-python",
   "name": "python",
   "nbconvert_exporter": "python",
   "pygments_lexer": "ipython3",
   "version": "3.8.5"
  }
 },
 "nbformat": 4,
 "nbformat_minor": 4
}
